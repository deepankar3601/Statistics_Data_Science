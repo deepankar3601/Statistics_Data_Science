{
 "cells": [
  {
   "cell_type": "code",
   "execution_count": 1,
   "id": "cdb99ad6-20ab-40bd-bf0e-6239b64d065e",
   "metadata": {},
   "outputs": [],
   "source": [
    "#Q1. What is Statistics?\n",
    "#What do you mean by statistics?\n",
    "#Statistics is the science concerned with developing and studying methods for collecting, analyzing, interpreting and presenting empirical data.\n",
    "#Q1 First quartile: 25% of the data are below this value. Q2: Second quartile / Median: This value splits the data in half. Q3 Third quartile: 25% of the data are above this value."
   ]
  },
  {
   "cell_type": "code",
   "execution_count": 2,
   "id": "cf3e9430-ff73-495f-b407-c3ddea3dee9d",
   "metadata": {},
   "outputs": [],
   "source": [
    "#Q2. Define the different types of statistics and give an example of when each type might be used.\n",
    "\n",
    "#their are two types of statistics\n",
    "# 1 -  Descriptive Statistics\n",
    "# 2 - Inferential Statistics \n",
    "\n",
    "# Descriptive Statistics\n",
    "# In the descriptive Statistics, the Data is described in a summarized way. The summarization is done from the sample of the population using different parameters like Mean or standard deviation. Descriptive Statistics are a way of using charts, graphs, and summary measures to organize, represent, and explain a set of Data. \n",
    "# Data is typically arranged and displayed in tables or graphs summarizing details such as histograms, pie charts, bars or scatter plots.\n",
    "# Descriptive Statistics are just descriptive and thus do not require normalization beyond the Data collected.\n",
    "\n",
    "#example of descriptive statistics\n",
    "#a student’s grade point average (GPA). A GPA gathers the data points created through a large selection of grades, classes, and exams then average them together and presents a general idea of the student’s mean academic performance. Note that the GPA doesn’t predict future performance or present any conclusions. Instead, it provides a straightforward summary of students’ academic success based on values pulled from data.\n",
    "\n",
    "#Inferential Statistics\n",
    "#In the Inferential Statistics, we try to interpret the Meaning of descriptive Statistics. After the Data has been collected, analyzed, and summarised we use Inferential Statistics to describe the Meaning of the collected Data. \n",
    "# Inferential Statistics use the probability principle to assess whether trends contained in the research sample can be generalized to the larger population from which the sample originally comes.\n",
    "# Inferential Statistics are intended to test hypotheses and investigate relationships between variables and can be used to make population predictions.\n",
    "# Inferential Statistics are used to draw conclusions and inferences, i.e., to make valid generalizations from samples.\n",
    "\n",
    "#example of inferential statistics\n",
    "#Suppose a coach wants to find out how many average cartwheels sophomores at his college can do without stopping. A sample of a few students will be asked to perform cartwheels and the average will be calculated. Inferential statistics will use this data to make a conclusion regarding how many cartwheel sophomores can perform on average.\n"
   ]
  },
  {
   "cell_type": "code",
   "execution_count": 3,
   "id": "7077f9c7-78a7-46bd-8e74-d997c2f3fdea",
   "metadata": {},
   "outputs": [],
   "source": [
    "#Q3. What are the different types of data and how do they differ from each other? Provide an example of each type of data.\n",
    "\n",
    "#The data is classified into majorly four categories:\n",
    "#1 Nominal data.\n",
    "#2 Ordinal data.\n",
    "#3 Discrete data.\n",
    "#4 Continuous data.\n",
    "\n",
    "# NOMINAL DATA\n",
    "# Nominal values represent discrete units and are used to label variables that have no quantitative value. Just think of them as “labels.” Note that nominal data that has no order. Therefore, if you would change the order of its values, the meaning would not change.\n",
    "\n",
    "# ORDINAL DATA\n",
    "# Ordinal values represent discrete and ordered units. It is therefore nearly the same as nominal data, except that its ordering matters.\n",
    "\n",
    "#DISCRETE DATA\n",
    "#We speak of discrete data if its values are distinct and separate. In other words: We speak of discrete data if the data can only take on certain values. This type of data can’t be measured but it can be counted. It basically represents information that can be categorized into a classification. An example is the number of heads in 100 coin flips.\n",
    "\n",
    "#CONTINUOUS DATA\n",
    "#Continuous data represents measurements and therefore their values can’t be counted but they can be measured. An example would be the height of a person, which you can describe by using intervals on the real number line."
   ]
  },
  {
   "cell_type": "code",
   "execution_count": 4,
   "id": "e3ccd74e-cdfa-4903-bb88-1a1c09a5187d",
   "metadata": {},
   "outputs": [],
   "source": [
    "#Q4. Categorise the following datasets with respect to quantitative and qualitative data types:\n",
    "# (i) Grading in exam: A+, A, B+, B, C+, C, D, E\n",
    "# (ii) Colour of mangoes: yellow, green, orange, red\n",
    "# (iii) Height data of a class: [178.9, 179, 179.5, 176, 177.2, 178.3, 175.8,...]\n",
    "# (iv) Number of mangoes exported by a farm: [500, 600, 478, 672, ...]\n",
    "\n"
   ]
  },
  {
   "cell_type": "code",
   "execution_count": 5,
   "id": "6da637e4-852e-4402-bcb2-7146b36cdd5e",
   "metadata": {},
   "outputs": [],
   "source": [
    "#grading in exam is qualitative data type  and it comes under ordinal data\n",
    "#colour of mangoes is qualitative data and it comes under nominal data\n",
    "#height data of a class is quantiative data and it comes under continuous data\n",
    "#number of mangoes export by a farm is quantiative data and it comes under discrete data"
   ]
  },
  {
   "cell_type": "code",
   "execution_count": 6,
   "id": "b1d27aa0-6789-4851-9845-9b8c542a7e67",
   "metadata": {},
   "outputs": [],
   "source": [
    "#Q5. Explain the concept of levels of measurement and give an example of a variable for each level.\n",
    "\n",
    "#Levels of measurement, also called scales of measurement, tell you how precisely variables are recorded. In scientific research, a variable is anything that can take on different values across your data set (e.g., height or test scores).\n",
    "\n",
    "# There are 4 levels of measurement:\n",
    "# Nominal: the data can only be categorized\n",
    "# City of birth\n",
    "# Gender\n",
    "\n",
    "# Ordinal: the data can be categorized and ranked\n",
    "# Top 5 Olympic medallists\n",
    "# Language ability (e.g., beginner, intermediate, fluent)\n",
    "\n",
    "# Interval: the data can be categorized, ranked, and evenly spaced\n",
    "# Test scores (e.g., IQ or exams)\n",
    "# Personality inventories\n",
    "\n",
    "# Ratio: the data can be categorized, ranked, evenly spaced, and has a natural zero.\n",
    "# Height\n",
    "# Age\n",
    "# Weight\n"
   ]
  },
  {
   "cell_type": "code",
   "execution_count": 7,
   "id": "4d077d5d-bf6a-469b-aed7-4a2d7add5eee",
   "metadata": {},
   "outputs": [],
   "source": [
    "#Q6. Why is it important to understand the level of measurement when analyzing data? Provide an example to illustrate your answer.\n",
    "\n",
    "# The level at which you measure a variable determines how you can analyze your data.\n",
    "# The different levels limit which descriptive statistics you can use to get an overall summary of your data, and which type of inferential statistics you can perform on your data to support or refute your hypothesis.\n",
    "# In many cases, your variables can be measured at different levels, so you have to choose the level of measurement you will use before data collection begins.\n",
    "\n",
    "# Example of a variable at 2 levels of measurement\n",
    "# You can measure the variable of income at an ordinal or ratio level.\n",
    "# Ordinal level: You create brackets of income ranges: $0–$19,999, $20,000–$39,999, and $40,000–$59,999. You ask participants to select the bracket that represents their annual income. The brackets are coded with numbers from 1–3.\n",
    "# Ratio level: You collect data on the exact annual incomes of your participants.\n",
    "# Participant\tIncome (ordinal level)\tIncome (ratio level)\n",
    "# A\tBracket 1\t$12,550\n",
    "# B\tBracket 2\t$39,700\n",
    "# C\tBracket 3\t$40,300\n",
    "# At a ratio level, you can see that the difference between A and B’s incomes is far greater than the difference between B and C’s incomes.\n",
    "\n",
    "# At an ordinal level, however, you only know the income bracket for each participant, not their exact income. Since you cannot say exactly how much each income differs from the others in your data set, you can only order the income levels and group the participants.\n",
    "\n"
   ]
  },
  {
   "cell_type": "code",
   "execution_count": 8,
   "id": "c44a57c0-210c-48c2-a7f7-47acc40871e2",
   "metadata": {},
   "outputs": [],
   "source": [
    "#Q7. How nominal data type is different from ordinal data type.\n",
    "\n",
    "#Nominal scale is a naming scale, where variables are simply “named” or labeled, with no specific order. Ordinal scale has all its variables in a specific order, beyond just naming them. Interval scale offers labels, order, as well as, a specific interval between each of its variable options."
   ]
  },
  {
   "cell_type": "code",
   "execution_count": 9,
   "id": "9d1042e6-edda-4c52-984a-4865f01504eb",
   "metadata": {},
   "outputs": [],
   "source": [
    "#Q8. Which type of plot can be used to display data in terms of range?\n",
    "#A histogram is a graphical representation of data points organized into user-specified ranges. Similar in appearance to a bar graph, the histogram condenses a data series into an easily interpreted visual by taking many data points and grouping them into logical ranges or bins.\n"
   ]
  },
  {
   "cell_type": "code",
   "execution_count": 11,
   "id": "217edf31-ea46-43c2-be74-799867d3d324",
   "metadata": {},
   "outputs": [],
   "source": [
    "#Q9. Describe the difference between descriptive and inferential statistics. Give an example of each type of statistics and explain how they are used.\n",
    "\n",
    "\n",
    "#Difference bw descriptive and inferential statistics\n",
    "#Descriptive Statistics gives information about raw data regarding its description or features. Inferential statistics, on the other hand, draw inferences about the population by using data extracted from the population.\n",
    "#We use descriptive statistics to describe a situation, while we use inferential statistics to explain the probability of occurrence of an event. \n",
    "#As for descriptive statistics, it helps to organize, analyze and present data in a meaningful manner. Inferential statistics helps to compare data, make hypotheses and predictions. \n",
    "# Descriptive statistics explains already known data related to a particular sample or population of a small size. Inferential statistics, however, aims to draw inferences or conclusions about a whole population. \n",
    "# We use charts, graphs, and tables to represent descriptive statistics, while we use probability methods for inferential statistics.\n",
    "# It is simpler to perform a study using descriptive statistics rather than inferential statistics, where you need to establish a relationship between variables in an entire population. \n",
    "\n",
    "#example of descriptive statistics\n",
    "#a student’s grade point average (GPA). A GPA gathers the data points created through a large selection of grades, classes, and exams then average them together and presents a general idea of the student’s mean academic performance. Note that the GPA doesn’t predict future performance or present any conclusions. Instead, it provides a straightforward summary of students’ academic success based on values pulled from data.\n",
    "\n",
    "##example of inferential statistics\n",
    "#Suppose a coach wants to find out how many average cartwheels sophomores at his college can do without stopping. A sample of a few students will be asked to perform cartwheels and the average will be calculated. Inferential statistics will use this data to make a conclusion regarding how many cartwheel sophomores can perform on average.\n",
    "\n"
   ]
  },
  {
   "cell_type": "code",
   "execution_count": null,
   "id": "6e041004-7ef6-499a-a091-19536aecb4bb",
   "metadata": {},
   "outputs": [],
   "source": [
    "#Q10. What are some common measures of central tendency and variability used in statistics? Explain how each measure can be used to describe a dataset.\n",
    "\n",
    "# Measures of central tendency are: \n",
    "# Mean: average of data values,\n",
    "# Median: “middle value” or the average of “middle\n",
    "# two values” in a data set when the numbers are\n",
    "# arranged in an order.\n",
    "# Mode: value that occurs with greatest frequency.\n",
    "\n",
    "\n",
    "#Measures of variation\n",
    "# Standard deviation: measure of how much data\n",
    "# values are deviated away from mean.\n",
    "# Range: difference between the maximum value and\n",
    "# the minimum value in a data set,\n",
    "# Range = maximum value – minimum value\n"
   ]
  }
 ],
 "metadata": {
  "kernelspec": {
   "display_name": "Python 3 (ipykernel)",
   "language": "python",
   "name": "python3"
  },
  "language_info": {
   "codemirror_mode": {
    "name": "ipython",
    "version": 3
   },
   "file_extension": ".py",
   "mimetype": "text/x-python",
   "name": "python",
   "nbconvert_exporter": "python",
   "pygments_lexer": "ipython3",
   "version": "3.10.8"
  }
 },
 "nbformat": 4,
 "nbformat_minor": 5
}

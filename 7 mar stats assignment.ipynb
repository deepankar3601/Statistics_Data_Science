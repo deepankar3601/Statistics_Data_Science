{
 "cells": [
  {
   "cell_type": "code",
   "execution_count": 67,
   "id": "46b8c6c4-d65a-4afa-8fe5-01bd2ae04605",
   "metadata": {},
   "outputs": [],
   "source": [
    "#Q1. What are the three measures of central tendency?\n",
    "\n",
    "# A measure of central tendency (also referred to as measures of centre or central location) is a summary measure that attempts to describe a whole set of data with a single value that represents the middle or centre of its distribution.\n",
    "# There are three main measures of central tendency:\n",
    "# mode\n",
    "# median\n",
    "# mean\n",
    "\n",
    "# Mode\n",
    "# The mode is the most commonly occurring value in a distribution.\n",
    "# Consider this dataset showing the retirement age of 11 people, in whole years:\n",
    "# 54, 54, 54, 55, 56, 57, 57, 58, 58, 60, 60\n",
    "# 54 is mode here\n",
    "\n",
    "# Median\n",
    "# The median is the middle value in distribution when the values are arranged in ascending or descending order.\n",
    "# The median divides the distribution in half (there are 50% of observations on either side of the median value). In a distribution with an odd number of observations, the median value is the middle value.  \n",
    "# Looking at the retirement age distribution (which has 11 observations), the median is the middle value, which is 57 years:  \n",
    "# 54, 54, 54, 55, 56, 57, 57, 58, 58, 60, 60 \n",
    "# When the distribution has an even number of observations, the median value is the mean of the two middle values.  In the following distribution, the two middle values are 56 and 57, therefore the median equals 56.5 years.\n",
    "\n",
    "# Mean\n",
    "# The mean is the sum of the value of each observation in a dataset divided by the number of observations. This is also known as the arithmetic average. \n",
    "# Looking at the retirement age distribution again: \n",
    "# 54, 54, 54, 55, 56, 57, 57, 58, 58, 60, 60\n",
    "# The mean is calculated by adding together all the values (54+54+54+55+56+57+57+58+58+60+60 = 623) and dividing by the number of observations (11) which equals 56.6 years."
   ]
  },
  {
   "cell_type": "code",
   "execution_count": 68,
   "id": "4fd7f9fb-a8a9-49c9-b851-a85126ed7169",
   "metadata": {},
   "outputs": [],
   "source": [
    "#Q2. What is the difference between the mean, median, and mode? How are they used to measure the central tendency of a dataset?\n",
    "\n",
    "#The mean is the average where the sum of all the numbers is divided by the total number of numbers, whereas the median is the middle value in the list of given numbers numerically ordered from smallest to biggest and mode is the value of the number which occurs most often in the list."
   ]
  },
  {
   "cell_type": "code",
   "execution_count": 69,
   "id": "687377bd-de9d-490e-ba9b-b6e548ce9ece",
   "metadata": {},
   "outputs": [],
   "source": [
    "#3. Measure the three measures of central tendency for the given height data:\n",
    "height = [178,177,176,177,178.2,178,175,179,180,175,178.9,176.2,177,172.5,178,176.5]\n",
    "\n",
    "#finding mean median mode \n",
    "\n",
    "from scipy import stats\n",
    "import numpy as np\n"
   ]
  },
  {
   "cell_type": "code",
   "execution_count": 70,
   "id": "12ba62b3-55e5-47a6-a561-1f6c8313145b",
   "metadata": {},
   "outputs": [
    {
     "data": {
      "text/plain": [
       "177.01875"
      ]
     },
     "execution_count": 70,
     "metadata": {},
     "output_type": "execute_result"
    }
   ],
   "source": [
    "np.mean(height)"
   ]
  },
  {
   "cell_type": "code",
   "execution_count": 71,
   "id": "2bbfdf51-7142-4f4d-870d-bf6d9e77449e",
   "metadata": {},
   "outputs": [
    {
     "data": {
      "text/plain": [
       "177.0"
      ]
     },
     "execution_count": 71,
     "metadata": {},
     "output_type": "execute_result"
    }
   ],
   "source": [
    "np.median(height)"
   ]
  },
  {
   "cell_type": "code",
   "execution_count": 72,
   "id": "f8f5e042-c748-42c4-8187-add89e21a57b",
   "metadata": {},
   "outputs": [
    {
     "name": "stderr",
     "output_type": "stream",
     "text": [
      "/tmp/ipykernel_84/1690947930.py:1: FutureWarning: Unlike other reduction functions (e.g. `skew`, `kurtosis`), the default behavior of `mode` typically preserves the axis it acts along. In SciPy 1.11.0, this behavior will change: the default value of `keepdims` will become False, the `axis` over which the statistic is taken will be eliminated, and the value None will no longer be accepted. Set `keepdims` to True or False to avoid this warning.\n",
      "  stats.mode(height)\n"
     ]
    },
    {
     "data": {
      "text/plain": [
       "ModeResult(mode=array([177.]), count=array([3]))"
      ]
     },
     "execution_count": 72,
     "metadata": {},
     "output_type": "execute_result"
    }
   ],
   "source": [
    "stats.mode(height)"
   ]
  },
  {
   "cell_type": "code",
   "execution_count": 73,
   "id": "9ffebba4-2ba6-4b04-b88a-45ea6e8ce0cf",
   "metadata": {},
   "outputs": [
    {
     "data": {
      "text/plain": [
       "1.7885814036548633"
      ]
     },
     "execution_count": 73,
     "metadata": {},
     "output_type": "execute_result"
    }
   ],
   "source": [
    "# Q4. Find the standard deviation for the given data:\n",
    "# [178,177,176,177,178.2,178,175,179,180,175,178.9,176.2,177,172.5,178,176.5]\n",
    "\n",
    "np.std(height)"
   ]
  },
  {
   "cell_type": "code",
   "execution_count": 74,
   "id": "e8cc2218-b20a-418e-8ac9-456555118b21",
   "metadata": {},
   "outputs": [],
   "source": [
    "#Q5. How are measures of dispersion such as range, variance, and standard deviation used to describe the spread of a dataset? Provide an example.\n",
    "\n",
    "#The measures of central tendency are not adequate to describe data. Two data sets can have the same mean but they can be entirely different. Thus to describe data, one needs to know the extent of variability. This is given by the measures of dispersion. Range, interquartile range, and standard deviation are the three commonly used measures of dispersion.\n",
    "\n",
    "#RANGE\n",
    "#The range is the difference between the largest and the smallest observation in the data. The prime advantage of this measure of dispersion is that it is easy to calculate. On the other hand, it has lot of disadvantages. It is very sensitive to outliers and does not use all the observations in a data set.[1] It is more informative to provide the minimum and the maximum values rather than providing the range.\n",
    "\n",
    "#STANDARD DEVIATION\n",
    "#Standard deviation (SD) is the most commonly used measure of dispersion. It is a measure of spread of data about the mean. SD is the square root of sum of squared deviation from the mean divided by the number of observations.\n",
    "\n",
    "#Variance\n",
    "#Variance is a simple measure of dispersion. Variance measures how far each number in the dataset from the mean. To compute variance first, calculate the mean and squared deviations from a mean."
   ]
  },
  {
   "cell_type": "code",
   "execution_count": 75,
   "id": "4d04cc83-8963-4be5-9444-81b081ee48c5",
   "metadata": {},
   "outputs": [],
   "source": [
    "#Q6. What is a Venn diagram?\n",
    "\n",
    "#A Venn diagram is a widely used diagram style that shows the logical relation between sets, popularized by John Venn (1834–1923) in the 1880s. The diagrams are used to teach elementary set theory, and to illustrate simple set relationships in probability, logic, statistics, linguistics and computer science."
   ]
  },
  {
   "cell_type": "code",
   "execution_count": 76,
   "id": "16ebd17c-2931-4d9d-b952-3dd023eab772",
   "metadata": {},
   "outputs": [],
   "source": [
    "#Q7. For the two given sets A = (2,3,4,5,6,7) & B = (0,2,6,8,10). Find:\n",
    "#(i) A B\n",
    "#(ii) A ⋃ B "
   ]
  },
  {
   "cell_type": "code",
   "execution_count": 77,
   "id": "47f2b651-fcfe-40ae-9f9b-cd9048868b90",
   "metadata": {},
   "outputs": [
    {
     "name": "stdout",
     "output_type": "stream",
     "text": [
      "the intersection of a and b is  {2, 6}\n"
     ]
    }
   ],
   "source": [
    "#finding a and b intersection\n",
    "\n",
    "a = {2,3,4,5,6,7}\n",
    "b = {0,2,6,8,10}\n",
    "\n",
    "\n",
    "print('the intersection of a and b is ' , a.intersection(b))"
   ]
  },
  {
   "cell_type": "code",
   "execution_count": 78,
   "id": "3487255f-6100-4f54-9da9-3aba073d3e2e",
   "metadata": {},
   "outputs": [
    {
     "name": "stdout",
     "output_type": "stream",
     "text": [
      "the union of a and b is  {0, 2, 3, 4, 5, 6, 7, 8, 10}\n"
     ]
    }
   ],
   "source": [
    "#finding a union b\n",
    "\n",
    "a = {2,3,4,5,6,7}\n",
    "b = {0,2,6,8,10}\n",
    "\n",
    "print('the union of a and b is ' , a.union(b))"
   ]
  },
  {
   "cell_type": "code",
   "execution_count": 79,
   "id": "8b70778e-9ff7-4367-8ec8-60d75b203585",
   "metadata": {},
   "outputs": [],
   "source": [
    "#Q8. What do you understand about skewness in data?\n",
    "\n",
    "#kewness is a measurement of the distortion of symmetrical distribution or asymmetry in a data set. Skewness is demonstrated on a bell curve when data points are not distributed symmetrically to the left and right sides of the median on a bell curve.\n"
   ]
  },
  {
   "cell_type": "code",
   "execution_count": 80,
   "id": "bb975419-8e0c-4d5b-9535-774738e2ea56",
   "metadata": {},
   "outputs": [],
   "source": [
    "#Q9. If a data is right skewed then what will be the position of median with respect to mean?\n",
    "\n",
    "#the mean will be greater than the median when the distribution is skewed to right"
   ]
  },
  {
   "cell_type": "code",
   "execution_count": 81,
   "id": "f1edc6c8-e1ad-49c0-a3b1-1ff63e4f34c2",
   "metadata": {},
   "outputs": [],
   "source": [
    "#Q10. Explain the difference between covariance and correlation. How are these measures used in statistical analysis?\n",
    "\n",
    "#Covariance\n",
    "#Covariance is an indicator of the extent to which 2 random variables are dependent on each other. A higher number denotes higher dependency.\n",
    "#The value of covariance lies in the range of -∞ and +∞.\n",
    "#Change in scale Affects covariance\n",
    "#it does not allow unit free measurement\n",
    "\n",
    "\n",
    "#Correlation\n",
    "#Correlation is a statistical measure that indicates how strongly two variables are related.\n",
    "#Correlation is limited to values between the range -1 and +1\n",
    "#changes in scale does not affect the correlation\n",
    "#it allows unit free measurement\n",
    "\n",
    "#Covariance and correlation greatly aid in understanding the relationship between two continuous variables. Covariance indicates whether two variables fluctuate in the same (positive covariance) or opposite direction (negative covariance). The numerical value of covariance has no importance; only the sign is relevant. Correlation, on the other hand, describes how a change in one variable leads to a change in the percentage of the second variable. Correlation ranges from -1 to +1. If the correlation value is 0, it suggests that there is no linear link between the variables, but another functional relationship may exist."
   ]
  },
  {
   "cell_type": "code",
   "execution_count": 82,
   "id": "33ba3d3a-b709-4220-ab07-2702663e365d",
   "metadata": {},
   "outputs": [],
   "source": [
    "import seaborn as sns\n",
    "import numpy as np"
   ]
  },
  {
   "cell_type": "code",
   "execution_count": 83,
   "id": "25af2481-0789-4d7e-93fc-d7d437a74a1a",
   "metadata": {},
   "outputs": [],
   "source": [
    "df = sns.load_dataset('healthexp')"
   ]
  },
  {
   "cell_type": "code",
   "execution_count": 88,
   "id": "690df4a4-479a-409f-aee2-977a297e2832",
   "metadata": {},
   "outputs": [
    {
     "data": {
      "text/html": [
       "<div>\n",
       "<style scoped>\n",
       "    .dataframe tbody tr th:only-of-type {\n",
       "        vertical-align: middle;\n",
       "    }\n",
       "\n",
       "    .dataframe tbody tr th {\n",
       "        vertical-align: top;\n",
       "    }\n",
       "\n",
       "    .dataframe thead th {\n",
       "        text-align: right;\n",
       "    }\n",
       "</style>\n",
       "<table border=\"1\" class=\"dataframe\">\n",
       "  <thead>\n",
       "    <tr style=\"text-align: right;\">\n",
       "      <th></th>\n",
       "      <th>Year</th>\n",
       "      <th>Country</th>\n",
       "      <th>Spending_USD</th>\n",
       "      <th>Life_Expectancy</th>\n",
       "    </tr>\n",
       "  </thead>\n",
       "  <tbody>\n",
       "    <tr>\n",
       "      <th>0</th>\n",
       "      <td>1970</td>\n",
       "      <td>Germany</td>\n",
       "      <td>252.311</td>\n",
       "      <td>70.6</td>\n",
       "    </tr>\n",
       "    <tr>\n",
       "      <th>1</th>\n",
       "      <td>1970</td>\n",
       "      <td>France</td>\n",
       "      <td>192.143</td>\n",
       "      <td>72.2</td>\n",
       "    </tr>\n",
       "    <tr>\n",
       "      <th>2</th>\n",
       "      <td>1970</td>\n",
       "      <td>Great Britain</td>\n",
       "      <td>123.993</td>\n",
       "      <td>71.9</td>\n",
       "    </tr>\n",
       "    <tr>\n",
       "      <th>3</th>\n",
       "      <td>1970</td>\n",
       "      <td>Japan</td>\n",
       "      <td>150.437</td>\n",
       "      <td>72.0</td>\n",
       "    </tr>\n",
       "    <tr>\n",
       "      <th>4</th>\n",
       "      <td>1970</td>\n",
       "      <td>USA</td>\n",
       "      <td>326.961</td>\n",
       "      <td>70.9</td>\n",
       "    </tr>\n",
       "  </tbody>\n",
       "</table>\n",
       "</div>"
      ],
      "text/plain": [
       "   Year        Country  Spending_USD  Life_Expectancy\n",
       "0  1970        Germany       252.311             70.6\n",
       "1  1970         France       192.143             72.2\n",
       "2  1970  Great Britain       123.993             71.9\n",
       "3  1970          Japan       150.437             72.0\n",
       "4  1970            USA       326.961             70.9"
      ]
     },
     "execution_count": 88,
     "metadata": {},
     "output_type": "execute_result"
    }
   ],
   "source": [
    "df.head(5)"
   ]
  },
  {
   "cell_type": "code",
   "execution_count": 85,
   "id": "684e1231-4479-4289-a616-a36e7b594ac0",
   "metadata": {},
   "outputs": [
    {
     "name": "stderr",
     "output_type": "stream",
     "text": [
      "/tmp/ipykernel_84/1545644723.py:1: FutureWarning: The default value of numeric_only in DataFrame.cov is deprecated. In a future version, it will default to False. Select only valid columns or specify the value of numeric_only to silence this warning.\n",
      "  df.cov()\n"
     ]
    },
    {
     "data": {
      "text/html": [
       "<div>\n",
       "<style scoped>\n",
       "    .dataframe tbody tr th:only-of-type {\n",
       "        vertical-align: middle;\n",
       "    }\n",
       "\n",
       "    .dataframe tbody tr th {\n",
       "        vertical-align: top;\n",
       "    }\n",
       "\n",
       "    .dataframe thead th {\n",
       "        text-align: right;\n",
       "    }\n",
       "</style>\n",
       "<table border=\"1\" class=\"dataframe\">\n",
       "  <thead>\n",
       "    <tr style=\"text-align: right;\">\n",
       "      <th></th>\n",
       "      <th>Year</th>\n",
       "      <th>Spending_USD</th>\n",
       "      <th>Life_Expectancy</th>\n",
       "    </tr>\n",
       "  </thead>\n",
       "  <tbody>\n",
       "    <tr>\n",
       "      <th>Year</th>\n",
       "      <td>201.098848</td>\n",
       "      <td>2.571883e+04</td>\n",
       "      <td>41.915454</td>\n",
       "    </tr>\n",
       "    <tr>\n",
       "      <th>Spending_USD</th>\n",
       "      <td>25718.827373</td>\n",
       "      <td>4.817761e+06</td>\n",
       "      <td>4166.800912</td>\n",
       "    </tr>\n",
       "    <tr>\n",
       "      <th>Life_Expectancy</th>\n",
       "      <td>41.915454</td>\n",
       "      <td>4.166801e+03</td>\n",
       "      <td>10.733902</td>\n",
       "    </tr>\n",
       "  </tbody>\n",
       "</table>\n",
       "</div>"
      ],
      "text/plain": [
       "                         Year  Spending_USD  Life_Expectancy\n",
       "Year               201.098848  2.571883e+04        41.915454\n",
       "Spending_USD     25718.827373  4.817761e+06      4166.800912\n",
       "Life_Expectancy     41.915454  4.166801e+03        10.733902"
      ]
     },
     "execution_count": 85,
     "metadata": {},
     "output_type": "execute_result"
    }
   ],
   "source": [
    "#finding covariance\n",
    "\n",
    "df.cov()"
   ]
  },
  {
   "cell_type": "code",
   "execution_count": 90,
   "id": "d5969e87-a882-4cd5-9fa3-fa2e94ecc61e",
   "metadata": {},
   "outputs": [
    {
     "name": "stderr",
     "output_type": "stream",
     "text": [
      "/tmp/ipykernel_84/3784188985.py:3: FutureWarning: The default value of numeric_only in DataFrame.corr is deprecated. In a future version, it will default to False. Select only valid columns or specify the value of numeric_only to silence this warning.\n",
      "  df.corr(method = 'spearman')\n"
     ]
    },
    {
     "data": {
      "text/html": [
       "<div>\n",
       "<style scoped>\n",
       "    .dataframe tbody tr th:only-of-type {\n",
       "        vertical-align: middle;\n",
       "    }\n",
       "\n",
       "    .dataframe tbody tr th {\n",
       "        vertical-align: top;\n",
       "    }\n",
       "\n",
       "    .dataframe thead th {\n",
       "        text-align: right;\n",
       "    }\n",
       "</style>\n",
       "<table border=\"1\" class=\"dataframe\">\n",
       "  <thead>\n",
       "    <tr style=\"text-align: right;\">\n",
       "      <th></th>\n",
       "      <th>Year</th>\n",
       "      <th>Spending_USD</th>\n",
       "      <th>Life_Expectancy</th>\n",
       "    </tr>\n",
       "  </thead>\n",
       "  <tbody>\n",
       "    <tr>\n",
       "      <th>Year</th>\n",
       "      <td>1.000000</td>\n",
       "      <td>0.931598</td>\n",
       "      <td>0.896117</td>\n",
       "    </tr>\n",
       "    <tr>\n",
       "      <th>Spending_USD</th>\n",
       "      <td>0.931598</td>\n",
       "      <td>1.000000</td>\n",
       "      <td>0.747407</td>\n",
       "    </tr>\n",
       "    <tr>\n",
       "      <th>Life_Expectancy</th>\n",
       "      <td>0.896117</td>\n",
       "      <td>0.747407</td>\n",
       "      <td>1.000000</td>\n",
       "    </tr>\n",
       "  </tbody>\n",
       "</table>\n",
       "</div>"
      ],
      "text/plain": [
       "                     Year  Spending_USD  Life_Expectancy\n",
       "Year             1.000000      0.931598         0.896117\n",
       "Spending_USD     0.931598      1.000000         0.747407\n",
       "Life_Expectancy  0.896117      0.747407         1.000000"
      ]
     },
     "execution_count": 90,
     "metadata": {},
     "output_type": "execute_result"
    }
   ],
   "source": [
    "#finding correlation\n",
    "\n",
    "df.corr(method = 'spearman')"
   ]
  },
  {
   "cell_type": "code",
   "execution_count": 61,
   "id": "67175988-3a5e-402a-be39-abb06e081a25",
   "metadata": {},
   "outputs": [],
   "source": [
    "#Q11. What is the formula for calculating the sample mean? Provide an example calculation for a dataset.\n",
    "\n",
    "#The sample mean formula is written as\n",
    "\n",
    "#Sample Mean = (Sum of terms) ÷ (Number of Terms) = ∑xi / n = (x1 + x2 + x3 ..) / n \n",
    "#∑xi= sum of terms\n",
    "#n = number of terms"
   ]
  },
  {
   "cell_type": "code",
   "execution_count": 62,
   "id": "80ecee4c-b8aa-4458-85e2-bfbd7f5694b2",
   "metadata": {},
   "outputs": [],
   "source": [
    "import statistics"
   ]
  },
  {
   "cell_type": "code",
   "execution_count": 63,
   "id": "0ddaf618-5474-4e75-bacd-1f8b40c56ccc",
   "metadata": {},
   "outputs": [
    {
     "data": {
      "text/plain": [
       "6.375"
      ]
     },
     "execution_count": 63,
     "metadata": {},
     "output_type": "execute_result"
    }
   ],
   "source": [
    "data = [2,4,5,6,7,8,9,10]\n",
    "\n",
    "statistics.mean(data)"
   ]
  },
  {
   "cell_type": "code",
   "execution_count": 64,
   "id": "6a724fc0-db16-4148-8bdf-15fb149d3499",
   "metadata": {},
   "outputs": [],
   "source": [
    "#Q12. For a normal distribution data what is the relationship between its measure of central tendency?\n",
    "\n",
    "#Any normal distribution has a graph that is perfectly symmetric about a vertical line through its peak. Therefore, all measures of central tendency (most commonly, the mean, median, and mode) give the same answer: the x-value of the peak."
   ]
  },
  {
   "cell_type": "code",
   "execution_count": null,
   "id": "f10f1471-7259-4e58-8dfb-6fe634119281",
   "metadata": {},
   "outputs": [],
   "source": [
    "#Q13. How is covariance different from correlation?\n",
    "\n",
    "#Covariance\n",
    "#Covariance is an indicator of the extent to which 2 random variables are dependent on each other. A higher number denotes higher dependency.\n",
    "#The value of covariance lies in the range of -∞ and +∞.\n",
    "#Change in scale Affects covariance\n",
    "#it does not allow unit free measurement\n",
    "\n",
    "\n",
    "#Correlation\n",
    "#Correlation is a statistical measure that indicates how strongly two variables are related.\n",
    "#Correlation is limited to values between the range -1 and +1\n",
    "#changes in scale does not affect the correlation\n",
    "#it allows unit free measurement"
   ]
  },
  {
   "cell_type": "code",
   "execution_count": 93,
   "id": "b97b69fe-639e-4e85-894f-400e9a1a5830",
   "metadata": {},
   "outputs": [],
   "source": [
    "#Q14. How do outliers affect measures of central tendency and dispersion? Provide an example.\n",
    "\n",
    "#Outliers are numbers in a data set that are vastly larger or smaller than the other values in the set. Mean, median and mode are measures of central tendency. Mean is the only measure of central tendency that is always affected by an outlier. Mean, the average, is the most popular measure of central tendency."
   ]
  },
  {
   "cell_type": "code",
   "execution_count": 94,
   "id": "d1110c80-b883-42a9-8cb0-dece2ea916ac",
   "metadata": {},
   "outputs": [],
   "source": [
    "#lets take an example\n",
    "\n",
    "a = [1,2,3,4,5,6,7,8]"
   ]
  },
  {
   "cell_type": "code",
   "execution_count": 95,
   "id": "e7f4a508-7c53-474d-962b-14f5966a40a6",
   "metadata": {},
   "outputs": [
    {
     "data": {
      "text/plain": [
       "4.5"
      ]
     },
     "execution_count": 95,
     "metadata": {},
     "output_type": "execute_result"
    }
   ],
   "source": [
    "np.mean(a)"
   ]
  },
  {
   "cell_type": "code",
   "execution_count": 98,
   "id": "2a84a703-c21d-43a7-b868-35e5f6dda988",
   "metadata": {},
   "outputs": [],
   "source": [
    "#now lets put an outlier in the same data\n",
    "\n",
    "a1 = [1,2,3,4,5,6,7,8,100]"
   ]
  },
  {
   "cell_type": "code",
   "execution_count": 99,
   "id": "ca665205-761b-4672-8811-59848929e0c5",
   "metadata": {},
   "outputs": [
    {
     "data": {
      "text/plain": [
       "15.11111111111111"
      ]
     },
     "execution_count": 99,
     "metadata": {},
     "output_type": "execute_result"
    }
   ],
   "source": [
    "np.mean(a1)"
   ]
  },
  {
   "cell_type": "code",
   "execution_count": 100,
   "id": "665a0a6f-4384-4167-9ea9-3d38e29e148a",
   "metadata": {},
   "outputs": [],
   "source": [
    "#the mean has increased a lot this is how outliers affect measure of central tendency"
   ]
  },
  {
   "cell_type": "code",
   "execution_count": 102,
   "id": "9da0e22e-d1c3-4739-b872-c002e7d632c1",
   "metadata": {},
   "outputs": [
    {
     "data": {
      "text/plain": [
       "4.5"
      ]
     },
     "execution_count": 102,
     "metadata": {},
     "output_type": "execute_result"
    }
   ],
   "source": [
    "np.std(a1)\n"
   ]
  },
  {
   "cell_type": "code",
   "execution_count": null,
   "id": "cc425391-2561-479f-8398-a0c03cf07ed1",
   "metadata": {},
   "outputs": [],
   "source": []
  }
 ],
 "metadata": {
  "kernelspec": {
   "display_name": "Python 3 (ipykernel)",
   "language": "python",
   "name": "python3"
  },
  "language_info": {
   "codemirror_mode": {
    "name": "ipython",
    "version": 3
   },
   "file_extension": ".py",
   "mimetype": "text/x-python",
   "name": "python",
   "nbconvert_exporter": "python",
   "pygments_lexer": "ipython3",
   "version": "3.10.8"
  }
 },
 "nbformat": 4,
 "nbformat_minor": 5
}
